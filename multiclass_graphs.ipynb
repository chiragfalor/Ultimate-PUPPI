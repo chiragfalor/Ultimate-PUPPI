{
    "cells": [
     {
      "cell_type": "code",
      "execution_count": 1,
      "id": "300f5524",
      "metadata": {},
      "outputs": [],
      "source": [
       "import numpy as np\n",
       "import matplotlib\n",
       "import matplotlib.pyplot as plt\n",
       "import pandas as pd"
      ]
     },
     {
      "cell_type": "code",
      "execution_count": null,
      "id": "6ff29014",
      "metadata": {},
      "outputs": [],
      "source": [
       "read_file = pd.read_csv(r'/eos/user/i/ishenogi/SWAN_projects/multiclass_predict.txt')\n",
       "read_file.to_csv(r'/eos/user/i/ishenogi/SWAN_projects/multiclass_predict.csv',index=None)"
      ]
     },
     {
      "cell_type": "code",
      "execution_count": null,
      "id": "1613ca94",
      "metadata": {},
      "outputs": [],
      "source": [
       "# Open csv file\n",
       "df = pd.read_csv('multiclass_predict.csv')\n",
       "print(df) "
      ]
     },
     {
      "cell_type": "code",
      "execution_count": null,
      "id": "6b638a6f",
      "metadata": {},
      "outputs": [],
      "source": [
       "import ROOT\n",
       "cn = ROOT.TCanvas()\n",
       "cl = ROOT.TCanvas()"
      ]
     },
     {
      "cell_type": "code",
      "execution_count": null,
      "id": "c467c507",
      "metadata": {},
      "outputs": [],
      "source": [
       "# Create ROOT Histogram for most energetic pileup, and for soft pileup\n",
       "h0 = ROOT.TH1F(\"histogram\",\"Probability that a particle originates from most-energetic pile-up vertex\", 50,0,1.1)\n",
       "h1 = ROOT.TH1F(\"histogram\",\"Probability that a particle originates from most-energetic pile-up vertex\", 50,0,1.1)\n",
       "\n",
       "# 0 and 1 probabilities\n",
       "full_pile0 = df['class_prob_0']\n",
       "full_pile1 = df['class_prob_1']\n",
       "\n",
       "# Fill histogram with predictions of probability for energetic particles corresponding to 1, and for soft particles to 0\n",
       "for part in range(len(full_pile1)):\n",
       "    if df['class_true'][part]==0:\n",
       "        h0.Fill(full_pile0[part])\n",
       "    else:\n",
       "        h1.Fill(full_pile0[part])"
      ]
     },
     {
      "cell_type": "code",
      "execution_count": null,
      "id": "ca9d296c",
      "metadata": {},
      "outputs": [],
      "source": [
       "cn.SetLogy()\n",
       "h0.SetFillColorAlpha(46, 0.35)\n",
       "h0.GetYaxis().SetRange(0, 90000)\n",
       "h1.SetFillColorAlpha(38, 0.35)\n",
       "h1.GetYaxis().SetRange(0, 90000)\n",
       "legend = ROOT.TLegend(0.3,0.7,0.6,0.9)\n",
       "legend.SetHeader(\"Legend\",\"C\")\n",
       "legend.AddEntry(h0, \"most energetic pile-up\", \"f\")\n",
       "legend.AddEntry(h1, \"soft pile-up\", \"f\")"
      ]
     },
     {
      "cell_type": "code",
      "execution_count": null,
      "id": "5409a95e",
      "metadata": {},
      "outputs": [],
      "source": [
       "h1.Draw()\n",
       "h0.Draw(\"SAME\")\n",
       "legend.Draw()\n",
       "cl.Draw()"
      ]
     },
     {
      "cell_type": "code",
      "execution_count": null,
      "id": "27693eb0",
      "metadata": {},
      "outputs": [],
      "source": [
       "h0n = ROOT.TH1F(\"histogram\",\"Probability that a particle originates from most-energetic pile-up vertex, neutral\", 50,0,1.1)\n",
       "h1n = ROOT.TH1F(\"histogram\",\"Probability that a particle originates from most-energetic pile-up vertex, neutral\", 50,0,1.1)"
      ]
     },
     {
      "cell_type": "code",
      "execution_count": null,
      "id": "a4968562",
      "metadata": {},
      "outputs": [],
      "source": [
       "# Fill histogram with predictions of probability for energetic particles corresponding to 1, and for soft particles to 0\n",
       "#nen_parts = []\n",
       "#nso_parts = []\n",
       "for part in range(len(full_pile1)):\n",
       "    if df['charge'][part]!=0:\n",
       "        continue\n",
       "    elif df['class_true'][part]==0:\n",
       "        h0n.Fill(full_pile0[part])\n",
       "        #nen_parts += full_pile0[part]\n",
       "    else:\n",
       "        h1n.Fill(full_pile0[part])\n",
       "        #nso_parts += full_pile0[part]"
      ]
     },
     {
      "cell_type": "code",
      "execution_count": null,
      "id": "f708c049",
      "metadata": {},
      "outputs": [],
      "source": [
       "h0n.SetFillColorAlpha(46, 0.35)\n",
       "h1n.SetFillColorAlpha(38, 0.35)\n",
       "legendn = ROOT.TLegend(0.1,0.7,0.4,0.9)\n",
       "legendn.SetHeader(\"Legend\",\"C\")\n",
       "legendn.AddEntry(h0n, \"most energetic pile-up\", \"f\")\n",
       "legendn.AddEntry(h1n, \"soft pile-up\", \"f\")"
      ]
     },
     {
      "cell_type": "code",
      "execution_count": null,
      "id": "789e0b96",
      "metadata": {},
      "outputs": [],
      "source": [
       "h1n.Draw()\n",
       "h0n.Draw(\"SAME\")\n",
       "legendn.Draw()\n",
       "cl.Draw()"
      ]
     },
     {
      "cell_type": "code",
      "execution_count": null,
      "id": "a8ea7efd",
      "metadata": {},
      "outputs": [],
      "source": [
       "print(h1n.Integral(h1n.FindFixBin(0),h1n.FindFixBin(0.2), \"\"))\n",
       "print(h0n.Integral(h1n.FindFixBin(0),h1n.FindFixBin(0.2), \"\"))"
      ]
     },
     {
      "cell_type": "code",
      "execution_count": null,
      "id": "1092abea",
      "metadata": {},
      "outputs": [],
      "source": [
       "vals = np.linspace(1,0,num=20)\n",
       "print(vals)\n",
       "import array\n",
       "from ROOT import TGraph\n",
       "print(h0n.Integral(h0n.FindFixBin(0),h0n.FindFixBin(1), \"\"))\n",
       "print(h0n.Integral(h0n.FindFixBin(0.6),h0n.FindFixBin(1)))"
      ]
     },
     {
      "cell_type": "code",
      "execution_count": null,
      "id": "4884b9ce",
      "metadata": {},
      "outputs": [],
      "source": [
       "tru_posn = []\n",
       "fal_posn = []\n",
       "for val in vals:\n",
       "    tru_posn += [h0n.Integral(h0n.FindFixBin(val),h0n.FindFixBin(1), \"\")/h0n.Integral(h0n.FindFixBin(0),h0n.FindFixBin(1), \"\")]\n",
       "    fal_posn += [h1n.Integral(h1n.FindFixBin(val),h1n.FindFixBin(1), \"\")/h1n.Integral(h1n.FindFixBin(0),h1n.FindFixBin(1), \"\")]\n",
       "print(fal_posn)"
      ]
     },
     {
      "cell_type": "code",
      "execution_count": null,
      "id": "f529aa13",
      "metadata": {},
      "outputs": [],
      "source": [
       "cr = ROOT.TCanvas()\n",
       "roc = TGraph(20, array.array('d', fal_posn),array.array('d', tru_posn));\n",
       "roc.SetTitle(\"True-Positive vs. False-Positive Rate, Neutral\")\n",
       "roc.GetXaxis().SetTitle(\"False-Positive Rate\");\n",
       "roc.GetYaxis().SetTitle(\"True-Positive Rate\");\n",
       "roc.SetLineColor(ROOT.kViolet-6)\n",
       "\n",
       "#print(\"AUC score for neutrals: \")"
      ]
     },
     {
      "cell_type": "code",
      "execution_count": null,
      "id": "98645136",
      "metadata": {},
      "outputs": [],
      "source": [
       "roc.Draw()\n",
       "cr.Draw()"
      ]
     },
     {
      "cell_type": "code",
      "execution_count": null,
      "id": "581e2a7c",
      "metadata": {},
      "outputs": [],
      "source": [
       "tru_pos = []\n",
       "fal_pos = []\n",
       "for val in vals:\n",
       "    tru_pos += [h0.Integral(h0.FindFixBin(val),h0.FindFixBin(1), \"\")/h0.Integral(h0.FindFixBin(0),h0.FindFixBin(1), \"\")]\n",
       "    fal_pos += [h1.Integral(h1.FindFixBin(val),h1.FindFixBin(1), \"\")/h1.Integral(h1.FindFixBin(0),h1.FindFixBin(1), \"\")]\n",
       "print(tru_pos)"
      ]
     },
     {
      "cell_type": "code",
      "execution_count": null,
      "id": "14130494",
      "metadata": {},
      "outputs": [],
      "source": [
       "crall = ROOT.TCanvas()\n",
       "rocall = TGraph(20, array.array('d', fal_pos),array.array('d', tru_pos));\n",
       "rocall.SetTitle(\"True-Positive vs. False-Positive Rate, All\")\n",
       "rocall.GetXaxis().SetTitle(\"False-Positive Rate\");\n",
       "rocall.GetYaxis().SetTitle(\"True-Positive Rate\");\n",
       "rocall.SetLineColor(ROOT.kGreen-6)\n",
       "print(\"AUC score: \", rocall.Integral())"
      ]
     },
     {
      "cell_type": "code",
      "execution_count": null,
      "id": "94b04f96",
      "metadata": {},
      "outputs": [],
      "source": [
       "rocall.Draw()\n",
       "crall.Draw()"
      ]
     },
     {
      "cell_type": "code",
      "execution_count": null,
      "id": "7afecf3a",
      "metadata": {},
      "outputs": [],
      "source": [
       "crtgt = ROOT.TCanvas()\n",
       "roc.SetTitle(\"True-Positive vs. False-Positive Rate\")\n",
       "legendr = ROOT.TLegend(0.32,0.4,0.9,0.2)\n",
       "legendr.SetHeader(\"Legend\",\"C\")\n",
       "legendr.AddEntry(rocall, \"All particles - AUC: 0.87319781598637\", \"l\")\n",
       "legendr.AddEntry(roc, \"Neutral particles - AUC: 0.604906566375453\", \"l\")\n",
       "roc.Draw()\n",
       "rocall.Draw(\"SAME\")\n",
       "crtgt.Draw()\n",
       "legendr.Draw()"
      ]
     },
     {
      "cell_type": "code",
      "execution_count": null,
      "id": "2da42dfe",
      "metadata": {},
      "outputs": [],
      "source": [
       "## Normalized histograms\n",
       "h0norm = ROOT.TH1F(\"histogram normed\",\"Probability that a particle originates from most-energetic pile-up vertex\", 50,0,1.1)\n",
       "h1norm = ROOT.TH1F(\"histogram normed\",\"Probability that a particle originates from most-energetic pile-up vertex\", 50,0,1.1)\n",
       "for part in range(len(full_pile1)):\n",
       "    if df['class_true'][part]==0:\n",
       "        h0norm.Fill(full_pile0[part])\n",
       "    else:\n",
       "        h1norm.Fill(full_pile0[part])\n",
       "h0norm.Scale(1./h0norm.Integral(),\"\")\n",
       "h1norm.Scale(1./h1norm.Integral(),\"\")"
      ]
     },
     {
      "cell_type": "code",
      "execution_count": null,
      "id": "e0f66c1e",
      "metadata": {},
      "outputs": [],
      "source": [
       "h0norm.SetFillColorAlpha(46, 0.35)\n",
       "#h0.GetYaxis().SetRange(0, 90000)\n",
       "h1norm.SetFillColorAlpha(38, 0.35)\n",
       "#h1.GetYaxis().SetRange(0, 90000)\n",
       "legendnorm = ROOT.TLegend(0.3,0.7,0.6,0.9)\n",
       "legendnorm.SetHeader(\"Legend\",\"C\")\n",
       "legendnorm.AddEntry(h0norm, \"most energetic pile-up\", \"f\")\n",
       "legendnorm.AddEntry(h1norm, \"soft pile-up\", \"f\")"
      ]
     },
     {
      "cell_type": "code",
      "execution_count": null,
      "id": "568da70d",
      "metadata": {},
      "outputs": [],
      "source": [
       "cnorm = ROOT.TCanvas()"
      ]
     },
     {
      "cell_type": "code",
      "execution_count": null,
      "id": "b73fa69c",
      "metadata": {},
      "outputs": [],
      "source": [
       "h1norm.Draw(\"HIST\")\n",
       "h0norm.Draw(\"HISTSAME\")\n",
       "legendnorm.Draw()\n",
       "cnorm.Draw()"
      ]
     },
     {
      "cell_type": "code",
      "execution_count": null,
      "id": "e820d43c",
      "metadata": {},
      "outputs": [],
      "source": [
       "## Normalized histograms\n",
       "h0normn = ROOT.TH1F(\"histogram normed\",\"Probability that a particle originates from most-energetic pile-up vertex, Neutral\", 50,0,1.1)\n",
       "h1normn = ROOT.TH1F(\"histogram normed\",\"Probability that a particle originates from most-energetic pile-up vertex, Neutral\", 50,0,1.1)\n",
       "for part in range(len(full_pile1)):\n",
       "    if df['charge'][part]!=0:\n",
       "        continue\n",
       "    elif df['class_true'][part]==0:\n",
       "        h0normn.Fill(full_pile0[part])\n",
       "    else:\n",
       "        h1normn.Fill(full_pile0[part])\n",
       "h0normn.Scale(1./h0normn.Integral(),\"\")\n",
       "h1normn.Scale(1./h1normn.Integral(),\"\")"
      ]
     },
     {
      "cell_type": "code",
      "execution_count": null,
      "id": "5a1bfd84",
      "metadata": {},
      "outputs": [],
      "source": [
       "h0normn.SetFillColorAlpha(46, 0.35)\n",
       "#h0.GetYaxis().SetRange(0, 90000)\n",
       "h1normn.SetFillColorAlpha(38, 0.35)\n",
       "#h1.GetYaxis().SetRange(0, 90000)\n",
       "legendnormn = ROOT.TLegend(0.1,0.7,0.4,0.9)\n",
       "legendnormn.SetHeader(\"Legend\",\"C\")\n",
       "legendnormn.AddEntry(h0normn, \"most energetic pile-up\", \"f\")\n",
       "legendnormn.AddEntry(h1normn, \"soft pile-up\", \"f\")\n",
       "cnormn = ROOT.TCanvas()"
      ]
     },
     {
      "cell_type": "code",
      "execution_count": null,
      "id": "3be192ef",
      "metadata": {},
      "outputs": [],
      "source": [
       "h1normn.Draw(\"HIST\")\n",
       "h0normn.Draw(\"HISTSAME\")\n",
       "legendnormn.Draw()\n",
       "cnormn.Draw()"
      ]
     },
     {
      "cell_type": "code",
      "execution_count": null,
      "id": "d5df3095",
      "metadata": {},
      "outputs": [],
      "source": [
       "plt.figure()\n",
       "plt.plot(fal_posn,tru_posn)"
      ]
     },
     {
      "cell_type": "code",
      "execution_count": null,
      "id": "e19cd075",
      "metadata": {},
      "outputs": [],
      "source": [
       "from sklearn.metrics import auc\n",
       "print(\"AUC for neutrals: \", auc(fal_posn, tru_posn))\n",
       "print(\"AUC for all: \", auc(fal_pos, tru_pos))"
      ]
     },
     {
      "cell_type": "markdown",
      "id": "c1c1f940",
      "metadata": {},
      "source": [
       "### Graphs with primary ###"
      ]
     },
     {
      "cell_type": "code",
      "execution_count": 2,
      "id": "f3fdfe27",
      "metadata": {},
      "outputs": [],
      "source": [
       "read_file = pd.read_csv(r'/eos/user/i/ishenogi/SWAN_projects/multiclass_predict_withpr.txt')\n",
       "read_file.to_csv(r'/eos/user/i/ishenogi/SWAN_projects/multiclass_predict_withpr.csv',index=None)"
      ]
     },
     {
      "cell_type": "code",
      "execution_count": 3,
      "id": "fb3a0ee8",
      "metadata": {},
      "outputs": [
       {
        "name": "stdout",
        "output_type": "stream",
        "text": [
         "         Unnamed: 0  class_true  charge      inputz        pt       eta  \\\n",
         "0                 0           0    -1.0  -26.862175  0.126024  2.537561   \n",
         "1                 1           0    -1.0  -26.862175  0.979794  2.020115   \n",
         "2                 2           0     1.0  -26.862175  0.048996  1.188750   \n",
         "3                 3           0     1.0  -26.862175  0.864245  2.600723   \n",
         "4                 4           0    -1.0  -26.862175 -4.735928  0.645426   \n",
         "...             ...         ...     ...         ...       ...       ...   \n",
         "3352637     3352637           1     0.0 -199.000000  0.468070  0.986506   \n",
         "3352638     3352638           1     0.0 -199.000000 -0.396427 -1.135153   \n",
         "3352639     3352639           1     0.0 -199.000000 -0.306396  1.080719   \n",
         "3352640     3352640           1     0.0 -199.000000  0.791228 -1.284955   \n",
         "3352641     3352641           1     0.0 -199.000000  0.274038  1.534248   \n",
         "\n",
         "              phi    energy  particleID  pred  vtx_truth  class_prob_0  \\\n",
         "0        0.656789  1.134676         0.0     0          0      0.970287   \n",
         "1       -0.518231  0.935819         0.0     0          0      0.932817   \n",
         "2       -0.556034  0.326880         0.0     0          0      0.965967   \n",
         "3       -0.072959  1.011290         0.0     0          0      0.976896   \n",
         "4        0.443230  1.658884         0.0     0          0      0.998392   \n",
         "...           ...       ...         ...   ...        ...           ...   \n",
         "3352637 -0.571232  0.242918         0.0     1         -1      0.214230   \n",
         "3352638  2.734323  2.229690         0.0     1         -1      0.474406   \n",
         "3352639 -3.754726  3.178409         0.0     1         -1      0.250150   \n",
         "3352640 -0.575505  0.568658         0.0     1         -1      0.211646   \n",
         "3352641 -3.851222  3.602269         0.0     1         -1      0.245713   \n",
         "\n",
         "         class_prob_1  \n",
         "0            0.029712  \n",
         "1            0.067183  \n",
         "2            0.034033  \n",
         "3            0.023104  \n",
         "4            0.001608  \n",
         "...               ...  \n",
         "3352637      0.785770  \n",
         "3352638      0.525594  \n",
         "3352639      0.749850  \n",
         "3352640      0.788354  \n",
         "3352641      0.754287  \n",
         "\n",
         "[3352642 rows x 13 columns]\n"
        ]
       }
      ],
      "source": [
       "dfp = pd.read_csv('multiclass_predict_withpr.csv')\n",
       "print(dfp) "
      ]
     },
     {
      "cell_type": "code",
      "execution_count": 4,
      "id": "e617831a",
      "metadata": {},
      "outputs": [
       {
        "name": "stdout",
        "output_type": "stream",
        "text": [
         "Welcome to JupyROOT 6.24/06\n"
        ]
       }
      ],
      "source": [
       "import ROOT\n",
       "cnp = ROOT.TCanvas()\n",
       "clp = ROOT.TCanvas()"
      ]
     },
     {
      "cell_type": "code",
      "execution_count": 5,
      "id": "66793651",
      "metadata": {},
      "outputs": [
       {
        "name": "stderr",
        "output_type": "stream",
        "text": [
         "Warning in <TROOT::Append>: Replacing existing TH1: histogramp (Potential memory leak).\n"
        ]
       }
      ],
      "source": [
       "# Create ROOT Histogram for most energetic pileup, and for soft pileup\n",
       "h0p = ROOT.TH1F(\"histogramp\",\"Probability that a particle originates from primary vertex\", 50,0,1.1)\n",
       "h1p = ROOT.TH1F(\"histogramp\",\"Probability that a particle originates from primary vertex\", 50,0,1.1)\n",
       "\n",
       "# 0 and 1 probabilities\n",
       "full_pile0p = dfp['class_prob_0']\n",
       "full_pile1p = dfp['class_prob_1']\n",
       "\n",
       "# Fill histogram with predictions of probability for energetic particles corresponding to 0, and for soft particles to 1\n",
       "for part in range(len(full_pile1p)):\n",
       "    if dfp['class_true'][part]==0:\n",
       "        h0p.Fill(full_pile0p[part])\n",
       "    else:\n",
       "        h1p.Fill(full_pile0p[part])"
      ]
     },
     {
      "cell_type": "code",
      "execution_count": 6,
      "id": "b03cf3ee",
      "metadata": {},
      "outputs": [
       {
        "data": {
         "text/plain": [
          "<cppyy.gbl.TLegendEntry object at 0x18fec930>"
         ]
        },
        "execution_count": 6,
        "metadata": {},
        "output_type": "execute_result"
       }
      ],
      "source": [
       "cnp.SetLogy()\n",
       "h0p.SetFillColorAlpha(46, 0.35)\n",
       "h0p.GetYaxis().SetRange(0, 90000)\n",
       "h1p.SetFillColorAlpha(38, 0.35)\n",
       "h1p.GetYaxis().SetRange(0, 90000)\n",
       "legendp = ROOT.TLegend(0.3,0.7,0.6,0.9)\n",
       "legendp.SetHeader(\"Legend\",\"C\")\n",
       "legendp.AddEntry(h0p, \"primary\", \"f\")\n",
       "legendp.AddEntry(h1p, \"pile-up\", \"f\")"
      ]
     },
     {
      "cell_type": "code",
      "execution_count": 7,
      "id": "16a12b6d",
      "metadata": {},
      "outputs": [
       {
        "data": {
         "image/png": "[encoded data removed]",
         "text/plain": [
          "<IPython.core.display.Image object>"
         ]
        },
        "metadata": {},
        "output_type": "display_data"
       }
      ],
      "source": [
       "h1p.Draw()\n",
       "h0p.Draw(\"SAME\")\n",
       "legendp.Draw()\n",
       "clp.Draw()"
      ]
     },
     {
      "cell_type": "code",
      "execution_count": 8,
      "id": "990b7678",
      "metadata": {},
      "outputs": [
       {
        "name": "stderr",
        "output_type": "stream",
        "text": [
         "Warning in <TROOT::Append>: Replacing existing TH1: histogrampn (Potential memory leak).\n"
        ]
       }
      ],
      "source": [
       "h0pn = ROOT.TH1F(\"histogrampn\",\"Probability that a particle originates from primary vertex, neutral\", 50,0,1.1)\n",
       "h1pn = ROOT.TH1F(\"histogrampn\",\"Probability that a particle originates from primary vertex, neutral\", 50,0,1.1)"
      ]
     },
     {
      "cell_type": "code",
      "execution_count": 9,
      "id": "5ec0e32c",
      "metadata": {},
      "outputs": [],
      "source": [
       "# Fill histogram with predictions of probability for energetic particles corresponding to 1, and for soft particles to 0\n",
       "#nen_parts = []\n",
       "#nso_parts = []\n",
       "for part in range(len(full_pile1p)):\n",
       "    if dfp['charge'][part]!=0:\n",
       "        continue\n",
       "    elif dfp['class_true'][part]==0:\n",
       "        h0pn.Fill(full_pile0p[part])\n",
       "        #nen_parts += full_pile0[part]\n",
       "    else:\n",
       "        h1pn.Fill(full_pile0p[part])\n",
       "        #nso_parts += full_pile0[part]"
      ]
     },
     {
      "cell_type": "code",
      "execution_count": 10,
      "id": "bae1a42e",
      "metadata": {},
      "outputs": [
       {
        "data": {
         "text/plain": [
          "<cppyy.gbl.TLegendEntry object at 0x16407200>"
         ]
        },
        "execution_count": 10,
        "metadata": {},
        "output_type": "execute_result"
       }
      ],
      "source": [
       "h0pn.SetFillColorAlpha(46, 0.35)\n",
       "h1pn.SetFillColorAlpha(38, 0.35)\n",
       "legendpn = ROOT.TLegend(0.4,0.7,0.7,0.9)\n",
       "legendpn.SetHeader(\"Legend\",\"C\")\n",
       "legendpn.AddEntry(h0pn, \"most energetic pile-up\", \"f\")\n",
       "legendpn.AddEntry(h1pn, \"soft pile-up\", \"f\")"
      ]
     },
     {
      "cell_type": "code",
      "execution_count": 11,
      "id": "1753f7c3",
      "metadata": {},
      "outputs": [
       {
        "data": {
         "image/png": "[encoded data removed]",
         "text/plain": [
          "<IPython.core.display.Image object>"
         ]
        },
        "metadata": {},
        "output_type": "display_data"
       }
      ],
      "source": [
       "h1pn.Draw()\n",
       "h0pn.Draw(\"SAME\")\n",
       "legendpn.Draw()\n",
       "clp.Draw()"
      ]
     },
     {
      "cell_type": "code",
      "execution_count": 12,
      "id": "3d15f333",
      "metadata": {},
      "outputs": [
       {
        "name": "stdout",
        "output_type": "stream",
        "text": [
         "[1.         0.94736842 0.89473684 0.84210526 0.78947368 0.73684211\n",
         " 0.68421053 0.63157895 0.57894737 0.52631579 0.47368421 0.42105263\n",
         " 0.36842105 0.31578947 0.26315789 0.21052632 0.15789474 0.10526316\n",
         " 0.05263158 0.        ]\n",
         "386062.0\n",
         "191764.0\n"
        ]
       }
      ],
      "source": [
       "valsp = np.linspace(1,0,num=20)\n",
       "print(valsp)\n",
       "import array\n",
       "from ROOT import TGraph\n",
       "print(h0pn.Integral(h0pn.FindFixBin(0),h0pn.FindFixBin(1), \"\"))\n",
       "print(h0pn.Integral(h0pn.FindFixBin(0.6),h0pn.FindFixBin(1)))"
      ]
     },
     {
      "cell_type": "code",
      "execution_count": 13,
      "id": "4ff47009",
      "metadata": {},
      "outputs": [
       {
        "name": "stdout",
        "output_type": "stream",
        "text": [
         "[0.00021538422689317165, 0.0019176623235798939, 0.00603001564877814, 0.009921043113237885, 0.018144264355173047, 0.02616472734213636, 0.037183487308298756, 0.06355988535617496, 0.0923240775056427, 0.16942568909955283, 0.2591205936286375, 0.38715091972778404, 0.623886407844145, 0.7700416879884673, 0.9228077784899487, 0.9766464081709348, 0.9965092901158693, 0.999971034535004, 0.9999992572957693, 1.0]\n"
        ]
       }
      ],
      "source": [
       "tru_pospn = []\n",
       "fal_pospn = []\n",
       "for valp in valsp:\n",
       "    tru_pospn += [h0pn.Integral(h0pn.FindFixBin(valp),h0pn.FindFixBin(1), \"\")/h0pn.Integral(h0pn.FindFixBin(0),h0pn.FindFixBin(1), \"\")]\n",
       "    fal_pospn += [h1pn.Integral(h1pn.FindFixBin(valp),h1pn.FindFixBin(1), \"\")/h1pn.Integral(h1pn.FindFixBin(0),h1pn.FindFixBin(1), \"\")]\n",
       "print(fal_pospn)"
      ]
     },
     {
      "cell_type": "code",
      "execution_count": 14,
      "id": "d428e10b",
      "metadata": {},
      "outputs": [],
      "source": [
       "crp = ROOT.TCanvas()\n",
       "rocp = TGraph(20, array.array('d', fal_pospn),array.array('d', tru_pospn));\n",
       "rocp.SetTitle(\"True-Positive vs. False-Positive Rate, Neutral\")\n",
       "rocp.GetXaxis().SetTitle(\"False-Positive Rate\");\n",
       "rocp.GetYaxis().SetTitle(\"True-Positive Rate\");\n",
       "rocp.SetLineColor(ROOT.kViolet-6)"
      ]
     },
     {
      "cell_type": "code",
      "execution_count": 15,
      "id": "a75ec508",
      "metadata": {},
      "outputs": [
       {
        "data": {
         "image/png": "[encoded data removed]",
         "text/plain": [
          "<IPython.core.display.Image object>"
         ]
        },
        "metadata": {},
        "output_type": "display_data"
       }
      ],
      "source": [
       "rocp.Draw()\n",
       "crp.Draw()"
      ]
     },
     {
      "cell_type": "code",
      "execution_count": 16,
      "id": "68f98446",
      "metadata": {},
      "outputs": [
       {
        "name": "stdout",
        "output_type": "stream",
        "text": [
         "[0.31611969657573735, 0.5027276278618739, 0.588475505361676, 0.6213929429616147, 0.6583198616276835, 0.6793319541321395, 0.6990201139787945, 0.7295534679122185, 0.7521294087648361, 0.7946296568451966, 0.8310553903779991, 0.872799464397642, 0.9336714762854017, 0.9634147413746541, 0.9879740690077916, 0.9948411846057029, 0.9972604391587626, 0.9985605058578367, 0.9991960940218285, 1.0]\n"
        ]
       }
      ],
      "source": [
       "tru_posp = []\n",
       "fal_posp = []\n",
       "for valp in valsp:\n",
       "    tru_posp += [h0p.Integral(h0p.FindFixBin(valp),h0p.FindFixBin(1), \"\")/h0p.Integral(h0p.FindFixBin(0),h0p.FindFixBin(1), \"\")]\n",
       "    fal_posp += [h1p.Integral(h1p.FindFixBin(valp),h1p.FindFixBin(1), \"\")/h1p.Integral(h1p.FindFixBin(0),h1p.FindFixBin(1), \"\")]\n",
       "print(tru_posp)"
      ]
     },
     {
      "cell_type": "code",
      "execution_count": 17,
      "id": "bbd517ae",
      "metadata": {},
      "outputs": [
       {
        "name": "stdout",
        "output_type": "stream",
        "text": [
         "AUC score:  0.2665717879211844\n"
        ]
       }
      ],
      "source": [
       "crpall = ROOT.TCanvas()\n",
       "rocpall = TGraph(20, array.array('d', fal_posp),array.array('d', tru_posp));\n",
       "rocpall.SetTitle(\"True-Positive vs. False-Positive Rate, All\")\n",
       "rocpall.GetXaxis().SetTitle(\"False-Positive Rate\");\n",
       "rocpall.GetYaxis().SetTitle(\"True-Positive Rate\");\n",
       "rocpall.SetLineColor(ROOT.kGreen-6)\n",
       "print(\"AUC score: \", rocpall.Integral())"
      ]
     },
     {
      "cell_type": "code",
      "execution_count": 18,
      "id": "f2bdb31e",
      "metadata": {},
      "outputs": [
       {
        "data": {
         "image/png": "[encoded data removed]",
         "text/plain": [
          "<IPython.core.display.Image object>"
         ]
        },
        "metadata": {},
        "output_type": "display_data"
       }
      ],
      "source": [
       "rocpall.Draw()\n",
       "crpall.Draw()"
      ]
     },
     {
      "cell_type": "code",
      "execution_count": 19,
      "id": "23788e25",
      "metadata": {},
      "outputs": [
       {
        "name": "stdout",
        "output_type": "stream",
        "text": [
         "AUC for neutrals:  0.7788679976309719\n",
         "AUC for all:  0.9230630184795195\n"
        ]
       }
      ],
      "source": [
       "from sklearn.metrics import auc\n",
       "print(\"AUC for neutrals: \", auc(fal_pospn, tru_pospn))\n",
       "print(\"AUC for all: \", auc(fal_posp, tru_posp))"
      ]
     },
     {
      "cell_type": "code",
      "execution_count": 20,
      "id": "278d193f",
      "metadata": {},
      "outputs": [
       {
        "data": {
         "image/png": "[encoded data removed]",
         "text/plain": [
          "<IPython.core.display.Image object>"
         ]
        },
        "metadata": {},
        "output_type": "display_data"
       }
      ],
      "source": [
       "crptgt = ROOT.TCanvas()\n",
       "rocp.SetTitle(\"True-Positive vs. False-Positive Rate, with Primary\")\n",
       "legendpr = ROOT.TLegend(0.32,0.4,0.9,0.2)\n",
       "legendpr.SetHeader(\"Legend\",\"C\")\n",
       "legendpr.AddEntry(rocpall, \"All particles - AUC: 0.928116809218577\", \"l\")\n",
       "legendpr.AddEntry(rocp, \"Neutral particles - AUC: 0.7835405679149765\", \"l\")\n",
       "rocp.Draw()\n",
       "rocpall.Draw(\"SAME\")\n",
       "crptgt.Draw()\n",
       "legendpr.Draw()"
      ]
     },
     {
      "cell_type": "code",
      "execution_count": 21,
      "id": "c6c8528b",
      "metadata": {},
      "outputs": [
       {
        "name": "stderr",
        "output_type": "stream",
        "text": [
         "Warning in <TROOT::Append>: Replacing existing TH1: histogram normedp (Potential memory leak).\n"
        ]
       }
      ],
      "source": [
       "## Normalized histograms\n",
       "h0pnorm = ROOT.TH1F(\"histogram normedp\",\"Probability that a particle originates from primary vertex\", 50,0,1.1)\n",
       "h1pnorm = ROOT.TH1F(\"histogram normedp\",\"Probability that a particle originates from primary vertex\", 50,0,1.1)\n",
       "for part in range(len(full_pile1p)):\n",
       "    if dfp['class_true'][part]==0:\n",
       "        h0pnorm.Fill(full_pile0p[part])\n",
       "    else:\n",
       "        h1pnorm.Fill(full_pile0p[part])\n",
       "h0pnorm.Scale(1./h0pnorm.Integral(),\"\")\n",
       "h1pnorm.Scale(1./h1pnorm.Integral(),\"\")"
      ]
     },
     {
      "cell_type": "code",
      "execution_count": 22,
      "id": "1a6552b9",
      "metadata": {},
      "outputs": [
       {
        "data": {
         "text/plain": [
          "<cppyy.gbl.TLegendEntry object at 0x194e2290>"
         ]
        },
        "execution_count": 22,
        "metadata": {},
        "output_type": "execute_result"
       }
      ],
      "source": [
       "h0pnorm.SetFillColorAlpha(46, 0.35)\n",
       "#h0.GetYaxis().SetRange(0, 90000)\n",
       "h1pnorm.SetFillColorAlpha(38, 0.35)\n",
       "#h1.GetYaxis().SetRange(0, 90000)\n",
       "legendpnorm = ROOT.TLegend(0.3,0.7,0.6,0.9)\n",
       "legendpnorm.SetHeader(\"Legend\",\"C\")\n",
       "legendpnorm.AddEntry(h0pnorm, \"primary\", \"f\")\n",
       "legendpnorm.AddEntry(h1pnorm, \"pile-up\", \"f\")"
      ]
     },
     {
      "cell_type": "code",
      "execution_count": 23,
      "id": "0f8cfc84",
      "metadata": {},
      "outputs": [],
      "source": [
       "cpnorm = ROOT.TCanvas()"
      ]
     },
     {
      "cell_type": "code",
      "execution_count": 24,
      "id": "1263c2d9",
      "metadata": {},
      "outputs": [
       {
        "data": {
         "image/png": "[encoded data removed]",
         "text/plain": [
          "<IPython.core.display.Image object>"
         ]
        },
        "metadata": {},
        "output_type": "display_data"
       }
      ],
      "source": [
       "h1pnorm.Draw(\"HIST\")\n",
       "h0pnorm.Draw(\"HISTSAME\")\n",
       "legendpnorm.Draw()\n",
       "cpnorm.Draw()"
      ]
     },
     {
      "cell_type": "code",
      "execution_count": 25,
      "id": "f34e8efb",
      "metadata": {},
      "outputs": [
       {
        "name": "stderr",
        "output_type": "stream",
        "text": [
         "Warning in <TROOT::Append>: Replacing existing TH1: histogram normed (Potential memory leak).\n"
        ]
       }
      ],
      "source": [
       "## Normalized histograms\n",
       "h0pnormn = ROOT.TH1F(\"histogram normed\",\"Probability that a particle originates from primary vertex, Neutral\", 50,0,1.1)\n",
       "h1pnormn = ROOT.TH1F(\"histogram normed\",\"Probability that a particle originates from primary vertex, Neutral\", 50,0,1.1)\n",
       "for part in range(len(full_pile1p)):\n",
       "    if dfp['charge'][part]!=0:\n",
       "        continue\n",
       "    elif dfp['class_true'][part]==0:\n",
       "        h0pnormn.Fill(full_pile0p[part])\n",
       "    else:\n",
       "        h1pnormn.Fill(full_pile0p[part])\n",
       "h0pnormn.Scale(1./h0pnormn.Integral(),\"\")\n",
       "h1pnormn.Scale(1./h1pnormn.Integral(),\"\")"
      ]
     },
     {
      "cell_type": "code",
      "execution_count": 26,
      "id": "6738caa5",
      "metadata": {},
      "outputs": [],
      "source": [
       "h0pnormn.SetFillColorAlpha(46, 0.35)\n",
       "#h0.GetYaxis().SetRange(0, 90000)\n",
       "h1pnormn.SetFillColorAlpha(38, 0.35)\n",
       "#h1.GetYaxis().SetRange(0, 90000)\n",
       "legendpnormn = ROOT.TLegend(0.4,0.7,0.7,0.9)\n",
       "legendpnormn.SetHeader(\"Legend\",\"C\")\n",
       "legendpnormn.AddEntry(h0pnormn, \"primary\", \"f\")\n",
       "legendpnormn.AddEntry(h1pnormn, \"pile-up\", \"f\")\n",
       "cpnormn = ROOT.TCanvas()"
      ]
     },
     {
      "cell_type": "code",
      "execution_count": 27,
      "id": "e2120920",
      "metadata": {},
      "outputs": [
       {
        "data": {
         "image/png": "[encoded data removed]",
         "text/plain": [
          "<IPython.core.display.Image object>"
         ]
        },
        "metadata": {},
        "output_type": "display_data"
       }
      ],
      "source": [
       "h0pnormn.Draw(\"HIST\")\n",
       "h1pnormn.Draw(\"HISTSAME\")\n",
       "legendpnormn.Draw()\n",
       "cpnormn.Draw()"
      ]
     },
     {
      "cell_type": "markdown",
      "id": "6369e19c",
      "metadata": {},
      "source": [
       "### Multiclass graph with primary, analysis ###"
      ]
     },
     {
      "cell_type": "code",
      "execution_count": 28,
      "id": "097ca9e7",
      "metadata": {},
      "outputs": [
       {
        "name": "stdout",
        "output_type": "stream",
        "text": [
         "3352642\n",
         "3352642\n"
        ]
       }
      ],
      "source": [
       "#print(full_pile0p.to_numpy())\n",
       "print(len(dfp['class_true'].to_numpy().tolist()))\n",
       "print(len(dfp['class_true'].to_numpy()))"
      ]
     },
     {
      "cell_type": "code",
      "execution_count": 29,
      "id": "f7ac3330",
      "metadata": {},
      "outputs": [],
      "source": [
       "#full_pile0pnpile = dfp['class_prob_0'][dfp['charge']==0][abs(dfp['class_prob_0']-0.27)<0.05]"
      ]
     },
     {
      "cell_type": "code",
      "execution_count": 30,
      "id": "3615e15a",
      "metadata": {},
      "outputs": [
       {
        "name": "stdout",
        "output_type": "stream",
        "text": [
         "0\n",
         "10000\n",
         "20000\n",
         "30000\n",
         "40000\n",
         "50000\n",
         "60000\n",
         "70000\n",
         "80000\n",
         "90000\n",
         "100000\n",
         "110000\n",
         "120000\n",
         "130000\n",
         "140000\n",
         "150000\n",
         "160000\n",
         "170000\n",
         "180000\n",
         "190000\n",
         "200000\n",
         "210000\n",
         "220000\n",
         "230000\n",
         "240000\n",
         "250000\n",
         "260000\n",
         "270000\n",
         "280000\n",
         "290000\n",
         "300000\n",
         "310000\n",
         "320000\n",
         "330000\n",
         "340000\n",
         "350000\n",
         "360000\n",
         "370000\n",
         "380000\n",
         "390000\n",
         "400000\n",
         "410000\n",
         "420000\n",
         "430000\n",
         "440000\n",
         "450000\n",
         "460000\n",
         "470000\n",
         "480000\n",
         "490000\n",
         "500000\n",
         "510000\n",
         "520000\n",
         "530000\n",
         "540000\n",
         "550000\n",
         "560000\n",
         "570000\n",
         "580000\n",
         "590000\n",
         "600000\n",
         "610000\n",
         "620000\n",
         "630000\n",
         "640000\n",
         "650000\n",
         "660000\n",
         "670000\n",
         "680000\n",
         "690000\n",
         "700000\n",
         "710000\n",
         "720000\n",
         "730000\n",
         "740000\n",
         "750000\n",
         "760000\n",
         "770000\n",
         "780000\n",
         "790000\n",
         "800000\n",
         "810000\n",
         "820000\n",
         "830000\n",
         "840000\n",
         "850000\n",
         "860000\n",
         "870000\n",
         "880000\n",
         "890000\n",
         "900000\n",
         "910000\n",
         "920000\n",
         "930000\n",
         "940000\n",
         "950000\n",
         "960000\n",
         "970000\n",
         "980000\n",
         "990000\n",
         "1000000\n",
         "1010000\n",
         "1020000\n",
         "1030000\n",
         "1040000\n",
         "1050000\n",
         "1060000\n",
         "1070000\n",
         "1080000\n",
         "1090000\n",
         "1100000\n",
         "1110000\n",
         "1120000\n",
         "1130000\n",
         "1140000\n",
         "1150000\n",
         "1160000\n",
         "1170000\n",
         "1180000\n",
         "1190000\n",
         "1200000\n",
         "1210000\n",
         "1220000\n",
         "1230000\n",
         "1240000\n",
         "1250000\n",
         "1260000\n",
         "1270000\n",
         "1280000\n",
         "1290000\n",
         "1300000\n",
         "1310000\n",
         "1320000\n",
         "1330000\n",
         "1340000\n",
         "1350000\n",
         "1360000\n",
         "1370000\n",
         "1380000\n",
         "1390000\n",
         "1400000\n",
         "1410000\n",
         "1420000\n",
         "1430000\n",
         "1440000\n",
         "1450000\n",
         "1460000\n",
         "1470000\n",
         "1480000\n",
         "1490000\n",
         "1500000\n",
         "1510000\n",
         "1520000\n",
         "1530000\n",
         "1540000\n",
         "1550000\n",
         "1560000\n",
         "1570000\n",
         "1580000\n",
         "1590000\n",
         "1600000\n",
         "1610000\n",
         "1620000\n",
         "1630000\n",
         "1640000\n",
         "1650000\n",
         "1660000\n",
         "1670000\n",
         "1680000\n",
         "1690000\n",
         "1700000\n",
         "1710000\n",
         "1720000\n",
         "1730000\n",
         "1740000\n",
         "1750000\n",
         "1760000\n",
         "1770000\n",
         "1780000\n",
         "1790000\n",
         "1800000\n",
         "1810000\n",
         "1820000\n",
         "1830000\n",
         "1840000\n",
         "1850000\n",
         "1860000\n",
         "1870000\n",
         "1880000\n",
         "1890000\n",
         "1900000\n",
         "1910000\n",
         "1920000\n",
         "1930000\n",
         "1940000\n",
         "1950000\n",
         "1960000\n",
         "1970000\n",
         "1980000\n",
         "1990000\n",
         "2000000\n",
         "2010000\n",
         "2020000\n",
         "2030000\n",
         "2040000\n",
         "2050000\n",
         "2060000\n",
         "2070000\n",
         "2080000\n",
         "2090000\n",
         "2100000\n",
         "2110000\n",
         "2120000\n",
         "2130000\n",
         "2140000\n",
         "2150000\n",
         "2160000\n",
         "2170000\n",
         "2180000\n",
         "2190000\n",
         "2200000\n",
         "2210000\n",
         "2220000\n",
         "2230000\n",
         "2240000\n",
         "2250000\n",
         "2260000\n",
         "2270000\n",
         "2280000\n",
         "2290000\n",
         "2300000\n",
         "2310000\n",
         "2320000\n",
         "2330000\n",
         "2340000\n",
         "2350000\n",
         "2360000\n",
         "2370000\n",
         "2380000\n",
         "2390000\n",
         "2400000\n",
         "2410000\n",
         "2420000\n",
         "2430000\n",
         "2440000\n",
         "2450000\n",
         "2460000\n",
         "2470000\n",
         "2480000\n",
         "2490000\n",
         "2500000\n",
         "2510000\n",
         "2520000\n",
         "2530000\n",
         "2540000\n",
         "2550000\n",
         "2560000\n",
         "2570000\n",
         "2580000\n",
         "2590000\n",
         "2600000\n",
         "2610000\n",
         "2620000\n",
         "2630000\n",
         "2640000\n",
         "2650000\n",
         "2660000\n",
         "2670000\n",
         "2680000\n",
         "2690000\n",
         "2700000\n",
         "2710000\n",
         "2720000\n",
         "2730000\n",
         "2740000\n",
         "2750000\n",
         "2760000\n",
         "2770000\n",
         "2780000\n",
         "2790000\n",
         "2800000\n",
         "2810000\n",
         "2820000\n",
         "2830000\n",
         "2840000\n",
         "2850000\n",
         "2860000\n",
         "2870000\n",
         "2880000\n",
         "2890000\n",
         "2900000\n",
         "2910000\n",
         "2920000\n",
         "2930000\n",
         "2940000\n",
         "2950000\n",
         "2960000\n",
         "2970000\n",
         "2980000\n",
         "2990000\n",
         "3000000\n",
         "3010000\n",
         "3020000\n",
         "3030000\n",
         "3040000\n",
         "3050000\n",
         "3060000\n",
         "3070000\n",
         "3080000\n",
         "3090000\n",
         "3100000\n",
         "3110000\n",
         "3120000\n",
         "3130000\n",
         "3140000\n",
         "3150000\n",
         "3160000\n",
         "3170000\n",
         "3180000\n",
         "3190000\n",
         "3200000\n",
         "3210000\n",
         "3220000\n",
         "3230000\n",
         "3240000\n",
         "3250000\n",
         "3260000\n",
         "3270000\n",
         "3280000\n",
         "3290000\n",
         "3300000\n",
         "3310000\n",
         "3320000\n",
         "3330000\n",
         "3340000\n",
         "3350000\n"
        ]
       }
      ],
      "source": [
       "counter = 0\n",
       "npile_idx = []\n",
       "nprim_idx = []\n",
       "while counter<len(dfp['class_true']):\n",
       "    if counter%10000==0:\n",
       "        print(counter)\n",
       "    if dfp['charge'][counter]==0:\n",
       "        if abs(dfp['class_prob_0'].to_numpy()[counter]-0.375)<0.01:\n",
       "            npile_idx += [counter]\n",
       "        elif abs(dfp['class_prob_0'].to_numpy()[counter]-1.0)<0.01:\n",
       "            nprim_idx += [counter]\n",
       "    counter+=1"
      ]
     },
     {
      "cell_type": "code",
      "execution_count": 46,
      "id": "1263d223",
      "metadata": {},
      "outputs": [
       {
        "name": "stdout",
        "output_type": "stream",
        "text": [
         "71\n",
         "0.37990004\n",
         "3352642\n",
         "113374\n",
         "37822\n"
        ]
       }
      ],
      "source": [
       "print(npile_idx[0])\n",
       "print(dfp['class_prob_0'][71])\n",
       "print(counter)\n",
       "print(len(npile_idx))\n",
       "print(len(nprim_idx))"
      ]
     },
     {
      "cell_type": "code",
      "execution_count": 78,
      "id": "ed95bfcf",
      "metadata": {},
      "outputs": [
       {
        "name": "stdout",
        "output_type": "stream",
        "text": [
         "large\n",
         "large\n",
         "large\n",
         "large\n",
         "large\n",
         "large\n",
         "large\n",
         "large\n",
         "large\n",
         "large\n",
         "large\n",
         "large\n",
         "large\n",
         "large\n",
         "large\n",
         "large\n",
         "large\n",
         "large\n",
         "large\n",
         "large\n",
         "large\n",
         "large\n",
         "large\n",
         "large\n",
         "large\n",
         "large\n",
         "large\n",
         "large\n",
         "large\n",
         "large\n",
         "large\n",
         "large\n",
         "large\n",
         "large\n",
         "large\n",
         "large\n",
         "large\n",
         "large\n",
         "large\n",
         "large\n",
         "large\n",
         "large\n",
         "large\n",
         "large\n",
         "large\n",
         "large\n",
         "large\n",
         "large\n",
         "large\n",
         "large\n",
         "large\n",
         "large\n",
         "large\n",
         "large\n",
         "large\n",
         "large\n",
         "large\n",
         "large\n",
         "large\n",
         "large\n",
         "large\n",
         "large\n",
         "large\n",
         "large\n",
         "large\n",
         "large\n",
         "large\n",
         "large\n",
         "large\n",
         "large\n",
         "large\n",
         "large\n",
         "large\n",
         "large\n",
         "large\n",
         "large\n",
         "large\n",
         "large\n",
         "large\n",
         "large\n",
         "large\n",
         "large\n",
         "large\n",
         "large\n",
         "large\n",
         "large\n",
         "large\n",
         "large\n",
         "large\n",
         "large\n",
         "large\n",
         "large\n",
         "large\n",
         "large\n",
         "large\n",
         "large\n",
         "large\n",
         "large\n",
         "large\n",
         "large\n",
         "large\n",
         "large\n",
         "large\n",
         "large\n",
         "large\n",
         "large\n",
         "large\n"
        ]
       }
      ],
      "source": [
       "#Check that input z is dummy for neutrals\n",
       "for idx in npile_idx:\n",
       "    if dfp['inputz'][idx]!=-199.000000:\n",
       "        print('not dummy')\n",
       "for idx in nprim_idx:\n",
       "    if dfp['eta'][idx]>50:\n",
       "        print('large')"
      ]
     },
     {
      "cell_type": "code",
      "execution_count": 95,
      "id": "d7e5a1a7",
      "metadata": {},
      "outputs": [
       {
        "name": "stderr",
        "output_type": "stream",
        "text": [
         "Warning in <TROOT::Append>: Replacing existing TH1: histpt (Potential memory leak).\n",
         "Warning in <TROOT::Append>: Replacing existing TH1: histpt (Potential memory leak).\n"
        ]
       }
      ],
      "source": [
       "## pt graphs\n",
       "hptpile = ROOT.TH1F(\"histpt\",\"Transferous momenta of neutral successful classifications\", 100,-20,20)\n",
       "hptprim = ROOT.TH1F(\"histpt\",\"Transferous momenta of neutral successful classifications\", 100,-20,20)"
      ]
     },
     {
      "cell_type": "code",
      "execution_count": 55,
      "id": "6b1d5c90",
      "metadata": {},
      "outputs": [],
      "source": [
       "for idxpi in npile_idx:\n",
       "    hptpile.Fill(dfp['pt'][idxpi])\n",
       "for idxpr in nprim_idx:\n",
       "    hptprim.Fill(dfp['pt'][idxpr])"
      ]
     },
     {
      "cell_type": "code",
      "execution_count": 56,
      "id": "6defc504",
      "metadata": {},
      "outputs": [
       {
        "data": {
         "text/plain": [
          "<cppyy.gbl.TLegendEntry object at 0x19ca16e0>"
         ]
        },
        "execution_count": 56,
        "metadata": {},
        "output_type": "execute_result"
       }
      ],
      "source": [
       "hptprim.SetFillColorAlpha(46, 0.35)\n",
       "hptpile.SetFillColorAlpha(38, 0.35)\n",
       "legendpt = ROOT.TLegend(0.1,0.7,0.4,0.9)\n",
       "legendpt.SetHeader(\"Legend\",\"C\")\n",
       "legendpt.AddEntry(hptpile, \"primary\", \"f\")\n",
       "legendpt.AddEntry(hptprim, \"pile-up\", \"f\")"
      ]
     },
     {
      "cell_type": "code",
      "execution_count": 57,
      "id": "424afe66",
      "metadata": {},
      "outputs": [],
      "source": [
       "c = ROOT.TCanvas()"
      ]
     },
     {
      "cell_type": "code",
      "execution_count": 58,
      "id": "26a729c2",
      "metadata": {},
      "outputs": [
       {
        "data": {
         "image/png": "[encoded data removed]",
         "text/plain": [
          "<IPython.core.display.Image object>"
         ]
        },
        "metadata": {},
        "output_type": "display_data"
       }
      ],
      "source": [
       "hptpile.Draw()\n",
       "hptprim.Draw(\"SAME\")\n",
       "legendpt.Draw()\n",
       "c.Draw()"
      ]
     },
     {
      "cell_type": "code",
      "execution_count": 71,
      "id": "ced20698",
      "metadata": {},
      "outputs": [
       {
        "name": "stderr",
        "output_type": "stream",
        "text": [
         "Warning in <TROOT::Append>: Replacing existing TH1: histeta (Potential memory leak).\n",
         "Warning in <TROOT::Append>: Replacing existing TH1: histeta (Potential memory leak).\n"
        ]
       }
      ],
      "source": [
       "## eta graphs\n",
       "hetapile = ROOT.TH1F(\"histeta\",\"Eta angles of neutral successful classifications\", 100,-20,20)\n",
       "hetaprim = ROOT.TH1F(\"histeta\",\"Eta angles of neutral successful classifications\", 100,-20,20)"
      ]
     },
     {
      "cell_type": "code",
      "execution_count": 72,
      "id": "a7d37e27",
      "metadata": {},
      "outputs": [],
      "source": [
       "for idxpi in npile_idx:\n",
       "    hetapile.Fill(dfp['eta'][idxpi])\n",
       "for idxpr in nprim_idx:\n",
       "    hetaprim.Fill(dfp['eta'][idxpr])"
      ]
     },
     {
      "cell_type": "code",
      "execution_count": 73,
      "id": "2526400f",
      "metadata": {},
      "outputs": [
       {
        "data": {
         "text/plain": [
          "<cppyy.gbl.TLegendEntry object at 0x19a960d0>"
         ]
        },
        "execution_count": 73,
        "metadata": {},
        "output_type": "execute_result"
       }
      ],
      "source": [
       "hetaprim.SetFillColorAlpha(46, 0.35)\n",
       "hetapile.SetFillColorAlpha(38, 0.35)\n",
       "legendeta = ROOT.TLegend(0.1,0.7,0.4,0.9)\n",
       "legendeta.SetHeader(\"Legend\",\"C\")\n",
       "legendeta.AddEntry(hetapile, \"primary\", \"f\")\n",
       "legendeta.AddEntry(hetaprim, \"pile-up\", \"f\")"
      ]
     },
     {
      "cell_type": "code",
      "execution_count": 74,
      "id": "e69b3578",
      "metadata": {},
      "outputs": [
       {
        "data": {
         "image/png": "[encoded data removed]",
         "text/plain": [
          "<IPython.core.display.Image object>"
         ]
        },
        "metadata": {},
        "output_type": "display_data"
       }
      ],
      "source": [
       "hetapile.Draw()\n",
       "hetaprim.Draw(\"SAME\")\n",
       "legendeta.Draw()\n",
       "c.Draw()"
      ]
     },
     {
      "cell_type": "code",
      "execution_count": 87,
      "id": "b5cdf4f2",
      "metadata": {},
      "outputs": [
       {
        "name": "stderr",
        "output_type": "stream",
        "text": [
         "Warning in <TROOT::Append>: Replacing existing TH1: histphi (Potential memory leak).\n",
         "Warning in <TROOT::Append>: Replacing existing TH1: histphi (Potential memory leak).\n"
        ]
       }
      ],
      "source": [
       "## phi graphs\n",
       "hphipile = ROOT.TH1F(\"histphi\",\"Phi angles of neutral successful classifications\", 100,-6,6)\n",
       "hphiprim = ROOT.TH1F(\"histphi\",\"Phi angles of neutral successful classifications\", 100,-6,6)"
      ]
     },
     {
      "cell_type": "code",
      "execution_count": 88,
      "id": "a3b58629",
      "metadata": {},
      "outputs": [],
      "source": [
       "for idxpi in npile_idx:\n",
       "    hphipile.Fill(dfp['phi'][idxpi])\n",
       "for idxpr in nprim_idx:\n",
       "    hphiprim.Fill(dfp['phi'][idxpr])"
      ]
     },
     {
      "cell_type": "code",
      "execution_count": 93,
      "id": "6972f7aa",
      "metadata": {},
      "outputs": [
       {
        "data": {
         "text/plain": [
          "<cppyy.gbl.TLegendEntry object at 0x19634e80>"
         ]
        },
        "execution_count": 93,
        "metadata": {},
        "output_type": "execute_result"
       }
      ],
      "source": [
       "hphiprim.SetFillColorAlpha(46, 0.35)\n",
       "hphipile.SetFillColorAlpha(38, 0.35)\n",
       "legendphi = ROOT.TLegend(0.35,0.7,0.65,0.9)\n",
       "legendphi.SetHeader(\"Legend\",\"C\")\n",
       "legendphi.AddEntry(hphipile, \"primary\", \"f\")\n",
       "legendphi.AddEntry(hphiprim, \"pile-up\", \"f\")"
      ]
     },
     {
      "cell_type": "code",
      "execution_count": 94,
      "id": "6d0ac2af",
      "metadata": {},
      "outputs": [
       {
        "data": {
         "image/png": "[encoded data removed]",
         "text/plain": [
          "<IPython.core.display.Image object>"
         ]
        },
        "metadata": {},
        "output_type": "display_data"
       }
      ],
      "source": [
       "hphipile.Draw()\n",
       "hphiprim.Draw(\"SAME\")\n",
       "legendphi.Draw()\n",
       "c.Draw()"
      ]
     },
     {
      "cell_type": "code",
      "execution_count": 108,
      "id": "c51f1863",
      "metadata": {},
      "outputs": [
       {
        "name": "stderr",
        "output_type": "stream",
        "text": [
         "Warning in <TROOT::Append>: Replacing existing TH1: histe (Potential memory leak).\n",
         "Warning in <TROOT::Append>: Replacing existing TH1: histe (Potential memory leak).\n"
        ]
       }
      ],
      "source": [
       "## energy graphs\n",
       "hepile = ROOT.TH1F(\"histe\",\"Energies of neutral successful classifications\", 100,-1,8)\n",
       "heprim = ROOT.TH1F(\"histe\",\"Energies of neutral successful classifications\", 100,-1,8)"
      ]
     },
     {
      "cell_type": "code",
      "execution_count": 109,
      "id": "81c95f94",
      "metadata": {},
      "outputs": [],
      "source": [
       "for idxpi in npile_idx:\n",
       "    hepile.Fill(dfp['energy'][idxpi])\n",
       "for idxpr in nprim_idx:\n",
       "    heprim.Fill(dfp['energy'][idxpr])"
      ]
     },
     {
      "cell_type": "code",
      "execution_count": 110,
      "id": "758b7423",
      "metadata": {},
      "outputs": [
       {
        "data": {
         "text/plain": [
          "<cppyy.gbl.TLegendEntry object at 0x19d9b6a0>"
         ]
        },
        "execution_count": 110,
        "metadata": {},
        "output_type": "execute_result"
       }
      ],
      "source": [
       "heprim.SetFillColorAlpha(46, 0.35)\n",
       "hepile.SetFillColorAlpha(38, 0.35)\n",
       "legende = ROOT.TLegend(0.1,0.7,0.4,0.9)\n",
       "legende.SetHeader(\"Legend\",\"C\")\n",
       "legende.AddEntry(hepile, \"primary\", \"f\")\n",
       "legende.AddEntry(heprim, \"pile-up\", \"f\")"
      ]
     },
     {
      "cell_type": "code",
      "execution_count": 111,
      "id": "4b54d8c0",
      "metadata": {},
      "outputs": [
       {
        "data": {
         "image/png": "[encoded data removed]",
         "text/plain": [
          "<IPython.core.display.Image object>"
         ]
        },
        "metadata": {},
        "output_type": "display_data"
       }
      ],
      "source": [
       "hepile.Draw()\n",
       "heprim.Draw(\"SAME\")\n",
       "legende.Draw()\n",
       "c.Draw()"
      ]
     },
     {
      "cell_type": "code",
      "execution_count": null,
      "id": "f1f3bea1",
      "metadata": {},
      "outputs": [],
      "source": []
     }
    ],
    "metadata": {
     "kernelspec": {
      "display_name": "Python 3",
      "language": "python",
      "name": "python3"
     },
     "language_info": {
      "codemirror_mode": {
       "name": "ipython",
       "version": 3
      },
      "file_extension": ".py",
      "mimetype": "text/x-python",
      "name": "python",
      "nbconvert_exporter": "python",
      "pygments_lexer": "ipython3",
      "version": "3.9.6"
     }
    },
    "nbformat": 4,
    "nbformat_minor": 5
   }